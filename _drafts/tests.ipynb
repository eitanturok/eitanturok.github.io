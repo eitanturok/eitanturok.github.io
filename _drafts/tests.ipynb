{
 "cells": [
  {
   "cell_type": "code",
   "execution_count": 11,
   "metadata": {},
   "outputs": [
    {
     "name": "stdout",
     "output_type": "stream",
     "text": [
      "Requirement already satisfied: editdistance in /Users/eitanturok/mambaforge/envs/edit-distance/lib/python3.12/site-packages (0.8.1)\n",
      "Requirement already satisfied: Levenshtein in /Users/eitanturok/mambaforge/envs/edit-distance/lib/python3.12/site-packages (0.25.1)\n",
      "Requirement already satisfied: rapidfuzz<4.0.0,>=3.8.0 in /Users/eitanturok/mambaforge/envs/edit-distance/lib/python3.12/site-packages (from Levenshtein) (3.9.6)\n",
      "Collecting stringzilla\n",
      "  Downloading stringzilla-3.9.0-cp312-cp312-macosx_11_0_arm64.whl.metadata (73 kB)\n",
      "Downloading stringzilla-3.9.0-cp312-cp312-macosx_11_0_arm64.whl (73 kB)\n",
      "Installing collected packages: stringzilla\n",
      "Successfully installed stringzilla-3.9.0\n"
     ]
    }
   ],
   "source": [
    "!pip install editdistance # https://github.com/roy-ht/editdistance\n",
    "!pip install Levenshtein # https://github.com/rapidfuzz/Levenshtein\n",
    "!pip install stringzilla # https://github.com/ashvardanian/StringZilla"
   ]
  },
  {
   "cell_type": "code",
   "execution_count": 12,
   "metadata": {},
   "outputs": [],
   "source": [
    "from Levenshtein import distance as rapid_edit_distance\n",
    "from editdistance import eval as roy_edit_distance\n",
    "from stringzilla import edit_distance as sz_edit_distance"
   ]
  },
  {
   "cell_type": "code",
   "execution_count": 4,
   "metadata": {},
   "outputs": [],
   "source": [
    "x = \"abc\"\n",
    "y = \"defac\""
   ]
  },
  {
   "cell_type": "code",
   "execution_count": 9,
   "metadata": {},
   "outputs": [
    {
     "data": {
      "text/plain": [
       "4"
      ]
     },
     "execution_count": 9,
     "metadata": {},
     "output_type": "execute_result"
    }
   ],
   "source": [
    "distance = rapid_edit_distance(x, y)\n",
    "distance"
   ]
  },
  {
   "cell_type": "code",
   "execution_count": 10,
   "metadata": {},
   "outputs": [
    {
     "data": {
      "text/plain": [
       "4"
      ]
     },
     "execution_count": 10,
     "metadata": {},
     "output_type": "execute_result"
    }
   ],
   "source": [
    "roy_edit_distance(x, y)"
   ]
  },
  {
   "cell_type": "code",
   "execution_count": 13,
   "metadata": {},
   "outputs": [
    {
     "data": {
      "text/plain": [
       "4"
      ]
     },
     "execution_count": 13,
     "metadata": {},
     "output_type": "execute_result"
    }
   ],
   "source": [
    "sz_edit_distance(x, y)"
   ]
  },
  {
   "cell_type": "code",
   "execution_count": null,
   "metadata": {},
   "outputs": [],
   "source": []
  }
 ],
 "metadata": {
  "kernelspec": {
   "display_name": "edit-distance",
   "language": "python",
   "name": "python3"
  },
  "language_info": {
   "codemirror_mode": {
    "name": "ipython",
    "version": 3
   },
   "file_extension": ".py",
   "mimetype": "text/x-python",
   "name": "python",
   "nbconvert_exporter": "python",
   "pygments_lexer": "ipython3",
   "version": "3.12.5"
  }
 },
 "nbformat": 4,
 "nbformat_minor": 2
}
